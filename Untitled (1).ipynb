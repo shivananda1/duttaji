{
 "cells": [
  {
   "cell_type": "code",
   "execution_count": null,
   "id": "cb60979b-079e-45ad-b27b-f288ec3d6184",
   "metadata": {},
   "outputs": [],
   "source": [
    "variable are like empty space were we keep and assign data type\n",
    "var=1 //assigning the value\n",
    "a==1 //declare the value"
   ]
  },
  {
   "cell_type": "code",
   "execution_count": 2,
   "id": "4c6a69ca-9854-424e-b120-27eb90e3ca59",
   "metadata": {},
   "outputs": [
    {
     "data": {
      "text/plain": [
       "str"
      ]
     },
     "execution_count": 2,
     "metadata": {},
     "output_type": "execute_result"
    }
   ],
   "source": [
    "a=\"1\"\n",
    "type(a)"
   ]
  },
  {
   "cell_type": "code",
   "execution_count": 4,
   "id": "b92986d9-2cf6-433c-afd7-228ed9658e99",
   "metadata": {},
   "outputs": [
    {
     "data": {
      "text/plain": [
       "1"
      ]
     },
     "execution_count": 4,
     "metadata": {},
     "output_type": "execute_result"
    }
   ],
   "source": [
    "int(a)"
   ]
  },
  {
   "cell_type": "code",
   "execution_count": 7,
   "id": "0d7bf0d9-b5ac-4055-9c0a-83c9f9fe32ed",
   "metadata": {},
   "outputs": [
    {
     "data": {
      "text/plain": [
       "1.0"
      ]
     },
     "execution_count": 7,
     "metadata": {},
     "output_type": "execute_result"
    }
   ],
   "source": [
    "float(a)"
   ]
  },
  {
   "cell_type": "code",
   "execution_count": 9,
   "id": "87b55c3e-bc49-46e0-825f-566246ae01a7",
   "metadata": {},
   "outputs": [],
   "source": [
    "t=[1,2,3,4,5]\n",
    "t.remove(1)"
   ]
  },
  {
   "cell_type": "code",
   "execution_count": 10,
   "id": "2957f019-7797-4f0b-a3ca-e35b04751c6b",
   "metadata": {},
   "outputs": [
    {
     "data": {
      "text/plain": [
       "[2, 3, 4, 5]"
      ]
     },
     "execution_count": 10,
     "metadata": {},
     "output_type": "execute_result"
    }
   ],
   "source": [
    "t"
   ]
  },
  {
   "cell_type": "code",
   "execution_count": 11,
   "id": "ecb7bdcf-b3fe-457c-9dab-967d9ab6dd54",
   "metadata": {},
   "outputs": [],
   "source": [
    "t.remove(4)"
   ]
  },
  {
   "cell_type": "code",
   "execution_count": 12,
   "id": "77b4ce3a-45fd-4d61-9bc6-2d0182649699",
   "metadata": {},
   "outputs": [
    {
     "data": {
      "text/plain": [
       "[2, 3, 5]"
      ]
     },
     "execution_count": 12,
     "metadata": {},
     "output_type": "execute_result"
    }
   ],
   "source": [
    "t"
   ]
  },
  {
   "cell_type": "code",
   "execution_count": 13,
   "id": "99e4804e-e61f-4083-ab50-e52da6d005f4",
   "metadata": {},
   "outputs": [],
   "source": [
    "t.remove(5)"
   ]
  },
  {
   "cell_type": "code",
   "execution_count": 14,
   "id": "2ee6fb69-89cb-4051-b4e5-6abb9eaef121",
   "metadata": {},
   "outputs": [
    {
     "data": {
      "text/plain": [
       "[2, 3]"
      ]
     },
     "execution_count": 14,
     "metadata": {},
     "output_type": "execute_result"
    }
   ],
   "source": [
    "t"
   ]
  },
  {
   "cell_type": "code",
   "execution_count": 15,
   "id": "0dda6209-94d4-46ff-bc19-313addf02004",
   "metadata": {},
   "outputs": [
    {
     "data": {
      "text/plain": [
       "complex"
      ]
     },
     "execution_count": 15,
     "metadata": {},
     "output_type": "execute_result"
    }
   ],
   "source": [
    "c=1+1j\n",
    "type(c)"
   ]
  },
  {
   "cell_type": "code",
   "execution_count": 16,
   "id": "26f6ca9d-3f61-461a-bd64-32250d371b03",
   "metadata": {},
   "outputs": [
    {
     "data": {
      "text/plain": [
       "25"
      ]
     },
     "execution_count": 16,
     "metadata": {},
     "output_type": "execute_result"
    }
   ],
   "source": [
    "age=25\n",
    "age"
   ]
  },
  {
   "cell_type": "code",
   "execution_count": 17,
   "id": "bd9adc06-f81d-4cc9-ba57-c765ecbbccd4",
   "metadata": {},
   "outputs": [
    {
     "data": {
      "text/plain": [
       "float"
      ]
     },
     "execution_count": 17,
     "metadata": {},
     "output_type": "execute_result"
    }
   ],
   "source": [
    "price=9.99\n",
    "type(9.99)"
   ]
  },
  {
   "cell_type": "code",
   "execution_count": 19,
   "id": "dda79c52-6b58-463c-91ad-3c852d3e7c01",
   "metadata": {},
   "outputs": [
    {
     "data": {
      "text/plain": [
       "'shiva'"
      ]
     },
     "execution_count": 19,
     "metadata": {},
     "output_type": "execute_result"
    }
   ],
   "source": [
    "name=\"shiva\"\n",
    "name[:]"
   ]
  },
  {
   "cell_type": "code",
   "execution_count": 20,
   "id": "c391f2b8-2d97-4e7a-aaf8-4cc2a308b10a",
   "metadata": {},
   "outputs": [
    {
     "name": "stdout",
     "output_type": "stream",
     "text": [
      "s\n",
      "h\n",
      "i\n",
      "v\n",
      "a\n"
     ]
    }
   ],
   "source": [
    "for i in name:\n",
    "    print(i)"
   ]
  },
  {
   "cell_type": "code",
   "execution_count": 22,
   "id": "84ab02fa-fa2e-4d8f-8803-d64a8a0541dd",
   "metadata": {},
   "outputs": [
    {
     "data": {
      "text/plain": [
       "' world'"
      ]
     },
     "execution_count": 22,
     "metadata": {},
     "output_type": "execute_result"
    }
   ],
   "source": [
    "s=\"hellow world\"\n",
    "s[6:100]"
   ]
  },
  {
   "cell_type": "code",
   "execution_count": null,
   "id": "9ba8d5cb-2c2b-409e-8ecc-972a458d44ed",
   "metadata": {},
   "outputs": [],
   "source": []
  }
 ],
 "metadata": {
  "kernelspec": {
   "display_name": "Python 3 (ipykernel)",
   "language": "python",
   "name": "python3"
  },
  "language_info": {
   "codemirror_mode": {
    "name": "ipython",
    "version": 3
   },
   "file_extension": ".py",
   "mimetype": "text/x-python",
   "name": "python",
   "nbconvert_exporter": "python",
   "pygments_lexer": "ipython3",
   "version": "3.10.8"
  }
 },
 "nbformat": 4,
 "nbformat_minor": 5
}
